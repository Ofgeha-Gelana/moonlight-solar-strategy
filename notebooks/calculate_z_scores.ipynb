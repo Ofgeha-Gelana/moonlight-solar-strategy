{
 "cells": [
  {
   "cell_type": "code",
   "execution_count": 1,
   "metadata": {},
   "outputs": [],
   "source": [
    "import pandas as pd\n",
    "import numpy as np\n",
    "import os,sys"
   ]
  },
  {
   "cell_type": "code",
   "execution_count": 2,
   "metadata": {},
   "outputs": [],
   "source": [
    "rpath = os.path.abspath('..')\n",
    "if rpath not in sys.path:\n",
    "    sys.path.insert(0, rpath)"
   ]
  },
  {
   "cell_type": "code",
   "execution_count": 3,
   "metadata": {},
   "outputs": [],
   "source": [
    "# Example usage:\n",
    "# Load the dataset\n",
    "df = pd.read_csv('../data/processed/cleaned_data.csv')  # Replace with the path to your dataset"
   ]
  },
  {
   "cell_type": "code",
   "execution_count": 5,
   "metadata": {},
   "outputs": [
    {
     "name": "stdout",
     "output_type": "stream",
     "text": [
      "          Timestamp   GHI  DNI   DHI  ModA  ModB  Tamb    RH   WS  WSgust  \\\n",
      "0  2021-10-30 07:13  17.7  0.0  17.7  20.1  19.2  22.0  98.6  0.2     0.7   \n",
      "1  2021-10-30 07:14  18.3  0.0  18.3  20.7  19.9  22.0  98.5  0.1     0.7   \n",
      "2  2021-10-30 07:15  18.9  0.0  18.9  21.4  20.5  22.0  98.6  0.2     0.7   \n",
      "3  2021-10-30 07:16  19.5  0.0  19.5  22.0  21.1  22.0  98.6  0.4     1.4   \n",
      "4  2021-10-30 07:17  20.1  0.0  20.1  22.7  21.8  22.0  98.5  0.1     1.1   \n",
      "\n",
      "   ...  WDstdev    BP  Cleaning  Precipitation  TModA  TModB  GHI_Outlier  \\\n",
      "0  ...      2.6  1003         0            0.0   22.5   22.9        False   \n",
      "1  ...      0.4  1003         0            0.0   22.5   22.9        False   \n",
      "2  ...      6.1  1003         0            0.0   22.6   22.9        False   \n",
      "3  ...      5.8  1003         0            0.0   22.6   22.9        False   \n",
      "4  ...      1.0  1003         0            0.0   22.6   22.9        False   \n",
      "\n",
      "   DNI_Outlier  DHI_Outlier  WS_Outlier  \n",
      "0        False        False       False  \n",
      "1        False        False       False  \n",
      "2        False        False       False  \n",
      "3        False        False       False  \n",
      "4        False        False       False  \n",
      "\n",
      "[5 rows x 22 columns]\n"
     ]
    }
   ],
   "source": [
    "from scripts.calculate_z_scores import calculate_z_scores\n",
    "# Columns to calculate Z-scores for\n",
    "columns_to_analyze = ['GHI', 'DNI', 'DHI', 'WS']\n",
    "# Calculate Z-scores and identify outliers\n",
    "df_with_outliers = calculate_z_scores(df, columns_to_analyze)\n",
    "\n",
    "# Show the DataFrame with outlier flags\n",
    "print(df_with_outliers.head())"
   ]
  }
 ],
 "metadata": {
  "kernelspec": {
   "display_name": ".venv",
   "language": "python",
   "name": "python3"
  },
  "language_info": {
   "codemirror_mode": {
    "name": "ipython",
    "version": 3
   },
   "file_extension": ".py",
   "mimetype": "text/x-python",
   "name": "python",
   "nbconvert_exporter": "python",
   "pygments_lexer": "ipython3",
   "version": "3.12.2"
  }
 },
 "nbformat": 4,
 "nbformat_minor": 2
}
